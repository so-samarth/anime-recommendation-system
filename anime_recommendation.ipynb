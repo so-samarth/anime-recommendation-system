{
 "cells": [
  {
   "cell_type": "markdown",
   "id": "a46c188f",
   "metadata": {},
   "source": [
    "# Anime Recommendation System"
   ]
  },
  {
   "cell_type": "code",
   "execution_count": 502,
   "id": "f462680e",
   "metadata": {},
   "outputs": [],
   "source": [
    "import pandas as pd\n",
    "import numpy as np\n",
    "import string\n",
    "from sklearn.feature_extraction.text import CountVectorizer\n",
    "from sklearn.metrics.pairwise import cosine_similarity\n",
    "import re\n",
    "from matplotlib import pyplot as plt"
   ]
  },
  {
   "cell_type": "markdown",
   "id": "c214c877",
   "metadata": {},
   "source": [
    "#### Importing the data"
   ]
  },
  {
   "cell_type": "code",
   "execution_count": 503,
   "id": "079aa9a2",
   "metadata": {},
   "outputs": [],
   "source": [
    "df = pd.read_csv(r'database.csv')"
   ]
  },
  {
   "cell_type": "code",
   "execution_count": 504,
   "id": "4a2237c2",
   "metadata": {
    "scrolled": true
   },
   "outputs": [
    {
     "data": {
      "text/html": [
       "<div>\n",
       "<style scoped>\n",
       "    .dataframe tbody tr th:only-of-type {\n",
       "        vertical-align: middle;\n",
       "    }\n",
       "\n",
       "    .dataframe tbody tr th {\n",
       "        vertical-align: top;\n",
       "    }\n",
       "\n",
       "    .dataframe thead th {\n",
       "        text-align: right;\n",
       "    }\n",
       "</style>\n",
       "<table border=\"1\" class=\"dataframe\">\n",
       "  <thead>\n",
       "    <tr style=\"text-align: right;\">\n",
       "      <th></th>\n",
       "      <th>anime_id</th>\n",
       "      <th>name</th>\n",
       "      <th>genre</th>\n",
       "      <th>type</th>\n",
       "      <th>episodes</th>\n",
       "      <th>rating</th>\n",
       "      <th>members</th>\n",
       "    </tr>\n",
       "  </thead>\n",
       "  <tbody>\n",
       "    <tr>\n",
       "      <th>0</th>\n",
       "      <td>32281</td>\n",
       "      <td>Kimi no Na wa.</td>\n",
       "      <td>Drama, Romance, School, Supernatural</td>\n",
       "      <td>Movie</td>\n",
       "      <td>1</td>\n",
       "      <td>9.37</td>\n",
       "      <td>200630</td>\n",
       "    </tr>\n",
       "    <tr>\n",
       "      <th>1</th>\n",
       "      <td>5114</td>\n",
       "      <td>Fullmetal Alchemist: Brotherhood</td>\n",
       "      <td>Action, Adventure, Drama, Fantasy, Magic, Mili...</td>\n",
       "      <td>TV</td>\n",
       "      <td>64</td>\n",
       "      <td>9.26</td>\n",
       "      <td>793665</td>\n",
       "    </tr>\n",
       "    <tr>\n",
       "      <th>2</th>\n",
       "      <td>28977</td>\n",
       "      <td>Gintama°</td>\n",
       "      <td>Action, Comedy, Historical, Parody, Samurai, S...</td>\n",
       "      <td>TV</td>\n",
       "      <td>51</td>\n",
       "      <td>9.25</td>\n",
       "      <td>114262</td>\n",
       "    </tr>\n",
       "    <tr>\n",
       "      <th>3</th>\n",
       "      <td>9253</td>\n",
       "      <td>Steins;Gate</td>\n",
       "      <td>Sci-Fi, Thriller</td>\n",
       "      <td>TV</td>\n",
       "      <td>24</td>\n",
       "      <td>9.17</td>\n",
       "      <td>673572</td>\n",
       "    </tr>\n",
       "    <tr>\n",
       "      <th>4</th>\n",
       "      <td>9969</td>\n",
       "      <td>Gintama&amp;#039;</td>\n",
       "      <td>Action, Comedy, Historical, Parody, Samurai, S...</td>\n",
       "      <td>TV</td>\n",
       "      <td>51</td>\n",
       "      <td>9.16</td>\n",
       "      <td>151266</td>\n",
       "    </tr>\n",
       "  </tbody>\n",
       "</table>\n",
       "</div>"
      ],
      "text/plain": [
       "   anime_id                              name  \\\n",
       "0     32281                    Kimi no Na wa.   \n",
       "1      5114  Fullmetal Alchemist: Brotherhood   \n",
       "2     28977                          Gintama°   \n",
       "3      9253                       Steins;Gate   \n",
       "4      9969                     Gintama&#039;   \n",
       "\n",
       "                                               genre   type episodes  rating  \\\n",
       "0               Drama, Romance, School, Supernatural  Movie        1    9.37   \n",
       "1  Action, Adventure, Drama, Fantasy, Magic, Mili...     TV       64    9.26   \n",
       "2  Action, Comedy, Historical, Parody, Samurai, S...     TV       51    9.25   \n",
       "3                                   Sci-Fi, Thriller     TV       24    9.17   \n",
       "4  Action, Comedy, Historical, Parody, Samurai, S...     TV       51    9.16   \n",
       "\n",
       "   members  \n",
       "0   200630  \n",
       "1   793665  \n",
       "2   114262  \n",
       "3   673572  \n",
       "4   151266  "
      ]
     },
     "execution_count": 504,
     "metadata": {},
     "output_type": "execute_result"
    }
   ],
   "source": [
    "#quick look at the data\n",
    "df.head()"
   ]
  },
  {
   "cell_type": "code",
   "execution_count": 505,
   "id": "3cfa1345",
   "metadata": {
    "scrolled": false
   },
   "outputs": [
    {
     "name": "stdout",
     "output_type": "stream",
     "text": [
      "<class 'pandas.core.frame.DataFrame'>\n",
      "RangeIndex: 9999 entries, 0 to 9998\n",
      "Data columns (total 7 columns):\n",
      " #   Column    Non-Null Count  Dtype  \n",
      "---  ------    --------------  -----  \n",
      " 0   anime_id  9999 non-null   int64  \n",
      " 1   name      9999 non-null   object \n",
      " 2   genre     9959 non-null   object \n",
      " 3   type      9999 non-null   object \n",
      " 4   episodes  9999 non-null   object \n",
      " 5   rating    9997 non-null   float64\n",
      " 6   members   9999 non-null   int64  \n",
      "dtypes: float64(1), int64(2), object(4)\n",
      "memory usage: 546.9+ KB\n"
     ]
    }
   ],
   "source": [
    "# Checking the datatypes and null values of each field\n",
    "df.info()"
   ]
  },
  {
   "cell_type": "code",
   "execution_count": 506,
   "id": "94331522",
   "metadata": {},
   "outputs": [],
   "source": [
    "# We can drop 'anime_id' as it will not contribute to cosine similarity\n",
    "df.drop('anime_id', inplace=True, axis=1)"
   ]
  },
  {
   "cell_type": "code",
   "execution_count": 507,
   "id": "1a7c3643",
   "metadata": {},
   "outputs": [
    {
     "data": {
      "text/plain": [
       "(9999, 6)"
      ]
     },
     "execution_count": 507,
     "metadata": {},
     "output_type": "execute_result"
    }
   ],
   "source": [
    "df.shape"
   ]
  },
  {
   "cell_type": "code",
   "execution_count": 508,
   "id": "20c45fb3",
   "metadata": {},
   "outputs": [],
   "source": [
    "# The rows with null values must be dropped to avoid confusion while deriving consine similarity matrix\n",
    "df.dropna(axis=0, inplace=True)"
   ]
  },
  {
   "cell_type": "markdown",
   "id": "baf3ee69",
   "metadata": {},
   "source": [
    "#### Making a list of genres"
   ]
  },
  {
   "cell_type": "code",
   "execution_count": 509,
   "id": "ac28187b",
   "metadata": {},
   "outputs": [],
   "source": [
    "df['genre'] = df['genre'].map(lambda x: x.lower().split(','))"
   ]
  },
  {
   "cell_type": "code",
   "execution_count": 510,
   "id": "bc1d4365",
   "metadata": {
    "scrolled": false
   },
   "outputs": [
    {
     "data": {
      "text/html": [
       "<div>\n",
       "<style scoped>\n",
       "    .dataframe tbody tr th:only-of-type {\n",
       "        vertical-align: middle;\n",
       "    }\n",
       "\n",
       "    .dataframe tbody tr th {\n",
       "        vertical-align: top;\n",
       "    }\n",
       "\n",
       "    .dataframe thead th {\n",
       "        text-align: right;\n",
       "    }\n",
       "</style>\n",
       "<table border=\"1\" class=\"dataframe\">\n",
       "  <thead>\n",
       "    <tr style=\"text-align: right;\">\n",
       "      <th></th>\n",
       "      <th>name</th>\n",
       "      <th>genre</th>\n",
       "      <th>type</th>\n",
       "      <th>episodes</th>\n",
       "      <th>rating</th>\n",
       "      <th>members</th>\n",
       "    </tr>\n",
       "  </thead>\n",
       "  <tbody>\n",
       "    <tr>\n",
       "      <th>0</th>\n",
       "      <td>Kimi no Na wa.</td>\n",
       "      <td>[drama,  romance,  school,  supernatural]</td>\n",
       "      <td>Movie</td>\n",
       "      <td>1</td>\n",
       "      <td>9.37</td>\n",
       "      <td>200630</td>\n",
       "    </tr>\n",
       "    <tr>\n",
       "      <th>1</th>\n",
       "      <td>Fullmetal Alchemist: Brotherhood</td>\n",
       "      <td>[action,  adventure,  drama,  fantasy,  magic,...</td>\n",
       "      <td>TV</td>\n",
       "      <td>64</td>\n",
       "      <td>9.26</td>\n",
       "      <td>793665</td>\n",
       "    </tr>\n",
       "    <tr>\n",
       "      <th>2</th>\n",
       "      <td>Gintama°</td>\n",
       "      <td>[action,  comedy,  historical,  parody,  samur...</td>\n",
       "      <td>TV</td>\n",
       "      <td>51</td>\n",
       "      <td>9.25</td>\n",
       "      <td>114262</td>\n",
       "    </tr>\n",
       "    <tr>\n",
       "      <th>3</th>\n",
       "      <td>Steins;Gate</td>\n",
       "      <td>[sci-fi,  thriller]</td>\n",
       "      <td>TV</td>\n",
       "      <td>24</td>\n",
       "      <td>9.17</td>\n",
       "      <td>673572</td>\n",
       "    </tr>\n",
       "    <tr>\n",
       "      <th>4</th>\n",
       "      <td>Gintama&amp;#039;</td>\n",
       "      <td>[action,  comedy,  historical,  parody,  samur...</td>\n",
       "      <td>TV</td>\n",
       "      <td>51</td>\n",
       "      <td>9.16</td>\n",
       "      <td>151266</td>\n",
       "    </tr>\n",
       "  </tbody>\n",
       "</table>\n",
       "</div>"
      ],
      "text/plain": [
       "                               name  \\\n",
       "0                    Kimi no Na wa.   \n",
       "1  Fullmetal Alchemist: Brotherhood   \n",
       "2                          Gintama°   \n",
       "3                       Steins;Gate   \n",
       "4                     Gintama&#039;   \n",
       "\n",
       "                                               genre   type episodes  rating  \\\n",
       "0          [drama,  romance,  school,  supernatural]  Movie        1    9.37   \n",
       "1  [action,  adventure,  drama,  fantasy,  magic,...     TV       64    9.26   \n",
       "2  [action,  comedy,  historical,  parody,  samur...     TV       51    9.25   \n",
       "3                                [sci-fi,  thriller]     TV       24    9.17   \n",
       "4  [action,  comedy,  historical,  parody,  samur...     TV       51    9.16   \n",
       "\n",
       "   members  \n",
       "0   200630  \n",
       "1   793665  \n",
       "2   114262  \n",
       "3   673572  \n",
       "4   151266  "
      ]
     },
     "execution_count": 510,
     "metadata": {},
     "output_type": "execute_result"
    }
   ],
   "source": [
    "df.head()"
   ]
  },
  {
   "cell_type": "markdown",
   "id": "14160746",
   "metadata": {},
   "source": [
    "#### The anime name to be displayed in recommendations must be stripped off of all unnecessary characters"
   ]
  },
  {
   "cell_type": "code",
   "execution_count": 511,
   "id": "5ec59761",
   "metadata": {},
   "outputs": [],
   "source": [
    "df['anime_name'] = df['name'].map(lambda name: re.sub('[.,@#$%^&*{}°;?!]',' ',name))"
   ]
  },
  {
   "cell_type": "markdown",
   "id": "8fe956b6",
   "metadata": {},
   "source": [
    "#### The 'name' field must have only alphabets and digits before passing it on for the cosine similarity matrix formation"
   ]
  },
  {
   "cell_type": "code",
   "execution_count": 512,
   "id": "efea1d07",
   "metadata": {},
   "outputs": [],
   "source": [
    "df['name'] = df['name'].map(lambda name: re.sub(' ','',\" \".join(re.findall('[a-zA-Z0-9]',name.lower()))))"
   ]
  },
  {
   "cell_type": "code",
   "execution_count": 513,
   "id": "c4409acb",
   "metadata": {
    "scrolled": false
   },
   "outputs": [
    {
     "data": {
      "text/html": [
       "<div>\n",
       "<style scoped>\n",
       "    .dataframe tbody tr th:only-of-type {\n",
       "        vertical-align: middle;\n",
       "    }\n",
       "\n",
       "    .dataframe tbody tr th {\n",
       "        vertical-align: top;\n",
       "    }\n",
       "\n",
       "    .dataframe thead th {\n",
       "        text-align: right;\n",
       "    }\n",
       "</style>\n",
       "<table border=\"1\" class=\"dataframe\">\n",
       "  <thead>\n",
       "    <tr style=\"text-align: right;\">\n",
       "      <th></th>\n",
       "      <th>name</th>\n",
       "      <th>genre</th>\n",
       "      <th>type</th>\n",
       "      <th>episodes</th>\n",
       "      <th>rating</th>\n",
       "      <th>members</th>\n",
       "      <th>anime_name</th>\n",
       "    </tr>\n",
       "  </thead>\n",
       "  <tbody>\n",
       "    <tr>\n",
       "      <th>0</th>\n",
       "      <td>kiminonawa</td>\n",
       "      <td>[drama,  romance,  school,  supernatural]</td>\n",
       "      <td>Movie</td>\n",
       "      <td>1</td>\n",
       "      <td>9.37</td>\n",
       "      <td>200630</td>\n",
       "      <td>Kimi no Na wa</td>\n",
       "    </tr>\n",
       "    <tr>\n",
       "      <th>1</th>\n",
       "      <td>fullmetalalchemistbrotherhood</td>\n",
       "      <td>[action,  adventure,  drama,  fantasy,  magic,...</td>\n",
       "      <td>TV</td>\n",
       "      <td>64</td>\n",
       "      <td>9.26</td>\n",
       "      <td>793665</td>\n",
       "      <td>Fullmetal Alchemist: Brotherhood</td>\n",
       "    </tr>\n",
       "    <tr>\n",
       "      <th>2</th>\n",
       "      <td>gintama</td>\n",
       "      <td>[action,  comedy,  historical,  parody,  samur...</td>\n",
       "      <td>TV</td>\n",
       "      <td>51</td>\n",
       "      <td>9.25</td>\n",
       "      <td>114262</td>\n",
       "      <td>Gintama</td>\n",
       "    </tr>\n",
       "    <tr>\n",
       "      <th>3</th>\n",
       "      <td>steinsgate</td>\n",
       "      <td>[sci-fi,  thriller]</td>\n",
       "      <td>TV</td>\n",
       "      <td>24</td>\n",
       "      <td>9.17</td>\n",
       "      <td>673572</td>\n",
       "      <td>Steins Gate</td>\n",
       "    </tr>\n",
       "    <tr>\n",
       "      <th>4</th>\n",
       "      <td>gintama039</td>\n",
       "      <td>[action,  comedy,  historical,  parody,  samur...</td>\n",
       "      <td>TV</td>\n",
       "      <td>51</td>\n",
       "      <td>9.16</td>\n",
       "      <td>151266</td>\n",
       "      <td>Gintama  039</td>\n",
       "    </tr>\n",
       "  </tbody>\n",
       "</table>\n",
       "</div>"
      ],
      "text/plain": [
       "                            name  \\\n",
       "0                     kiminonawa   \n",
       "1  fullmetalalchemistbrotherhood   \n",
       "2                        gintama   \n",
       "3                     steinsgate   \n",
       "4                     gintama039   \n",
       "\n",
       "                                               genre   type episodes  rating  \\\n",
       "0          [drama,  romance,  school,  supernatural]  Movie        1    9.37   \n",
       "1  [action,  adventure,  drama,  fantasy,  magic,...     TV       64    9.26   \n",
       "2  [action,  comedy,  historical,  parody,  samur...     TV       51    9.25   \n",
       "3                                [sci-fi,  thriller]     TV       24    9.17   \n",
       "4  [action,  comedy,  historical,  parody,  samur...     TV       51    9.16   \n",
       "\n",
       "   members                        anime_name  \n",
       "0   200630                    Kimi no Na wa   \n",
       "1   793665  Fullmetal Alchemist: Brotherhood  \n",
       "2   114262                          Gintama   \n",
       "3   673572                       Steins Gate  \n",
       "4   151266                     Gintama  039   "
      ]
     },
     "execution_count": 513,
     "metadata": {},
     "output_type": "execute_result"
    }
   ],
   "source": [
    "df.head()"
   ]
  },
  {
   "cell_type": "markdown",
   "id": "cf64d754",
   "metadata": {},
   "source": [
    "#### Some audience only prefer smaller animes that can be finished quickly, while others prefer binge-watching larger ones. The episodes will be classified into six classes before passing them on to the matrix. "
   ]
  },
  {
   "cell_type": "code",
   "execution_count": 514,
   "id": "8b58e3cb",
   "metadata": {},
   "outputs": [],
   "source": [
    "# Converting object datatype to int\n",
    "df['episodes'] = df['episodes'].map(lambda x: int(x) if x != 'Unknown' else None)"
   ]
  },
  {
   "cell_type": "code",
   "execution_count": 515,
   "id": "55a6f93b",
   "metadata": {},
   "outputs": [],
   "source": [
    "df['anime_size'] = ''"
   ]
  },
  {
   "cell_type": "code",
   "execution_count": 516,
   "id": "8188609e",
   "metadata": {
    "scrolled": true
   },
   "outputs": [],
   "source": [
    "# new column 'anime_size' has information about the size of the anime based on number of episodes\n",
    "df['anime_size'] = df['episodes'].map(lambda x: 'tiny' if (0<x<=1) \n",
    "                                      else ('small' if (1<x<=50) \n",
    "                                            else ('medium' if (50<x<=100) \n",
    "                                                  else ('large' if (100<x<=200) \n",
    "                                                        else ('verylarge' if (200<x<=500) \n",
    "                                                              else 'superlarge')))))"
   ]
  },
  {
   "cell_type": "markdown",
   "id": "e92093a5",
   "metadata": {},
   "source": [
    "#### Some auidence prefer less popular shows while others only look out for the most popular ones, hence classification based on popularity becomes important. Thus, the members can also be classified into four different classes similarly. "
   ]
  },
  {
   "cell_type": "code",
   "execution_count": 517,
   "id": "f5d8d522",
   "metadata": {},
   "outputs": [],
   "source": [
    "df['popularity'] = ''"
   ]
  },
  {
   "cell_type": "code",
   "execution_count": 518,
   "id": "c7cfb197",
   "metadata": {},
   "outputs": [],
   "source": [
    "# new column 'popularity' will have information about the fan following of each anime\n",
    "df['popularity'] = df['members'].map(lambda x: 'low' if (0<x<=1000) \n",
    "                                      else ('moderate' if (1000<x<=10000) \n",
    "                                            else ('high' if (10000<x<=100000) \n",
    "                                                  else 'veryhigh')))"
   ]
  },
  {
   "cell_type": "code",
   "execution_count": 519,
   "id": "ca3b414a",
   "metadata": {
    "scrolled": true
   },
   "outputs": [
    {
     "data": {
      "text/html": [
       "<div>\n",
       "<style scoped>\n",
       "    .dataframe tbody tr th:only-of-type {\n",
       "        vertical-align: middle;\n",
       "    }\n",
       "\n",
       "    .dataframe tbody tr th {\n",
       "        vertical-align: top;\n",
       "    }\n",
       "\n",
       "    .dataframe thead th {\n",
       "        text-align: right;\n",
       "    }\n",
       "</style>\n",
       "<table border=\"1\" class=\"dataframe\">\n",
       "  <thead>\n",
       "    <tr style=\"text-align: right;\">\n",
       "      <th></th>\n",
       "      <th>name</th>\n",
       "      <th>genre</th>\n",
       "      <th>type</th>\n",
       "      <th>episodes</th>\n",
       "      <th>rating</th>\n",
       "      <th>members</th>\n",
       "      <th>anime_name</th>\n",
       "      <th>anime_size</th>\n",
       "      <th>popularity</th>\n",
       "    </tr>\n",
       "  </thead>\n",
       "  <tbody>\n",
       "    <tr>\n",
       "      <th>0</th>\n",
       "      <td>kiminonawa</td>\n",
       "      <td>[drama,  romance,  school,  supernatural]</td>\n",
       "      <td>Movie</td>\n",
       "      <td>1.0</td>\n",
       "      <td>9.37</td>\n",
       "      <td>200630</td>\n",
       "      <td>Kimi no Na wa</td>\n",
       "      <td>tiny</td>\n",
       "      <td>veryhigh</td>\n",
       "    </tr>\n",
       "    <tr>\n",
       "      <th>1</th>\n",
       "      <td>fullmetalalchemistbrotherhood</td>\n",
       "      <td>[action,  adventure,  drama,  fantasy,  magic,...</td>\n",
       "      <td>TV</td>\n",
       "      <td>64.0</td>\n",
       "      <td>9.26</td>\n",
       "      <td>793665</td>\n",
       "      <td>Fullmetal Alchemist: Brotherhood</td>\n",
       "      <td>medium</td>\n",
       "      <td>veryhigh</td>\n",
       "    </tr>\n",
       "    <tr>\n",
       "      <th>2</th>\n",
       "      <td>gintama</td>\n",
       "      <td>[action,  comedy,  historical,  parody,  samur...</td>\n",
       "      <td>TV</td>\n",
       "      <td>51.0</td>\n",
       "      <td>9.25</td>\n",
       "      <td>114262</td>\n",
       "      <td>Gintama</td>\n",
       "      <td>medium</td>\n",
       "      <td>veryhigh</td>\n",
       "    </tr>\n",
       "    <tr>\n",
       "      <th>3</th>\n",
       "      <td>steinsgate</td>\n",
       "      <td>[sci-fi,  thriller]</td>\n",
       "      <td>TV</td>\n",
       "      <td>24.0</td>\n",
       "      <td>9.17</td>\n",
       "      <td>673572</td>\n",
       "      <td>Steins Gate</td>\n",
       "      <td>small</td>\n",
       "      <td>veryhigh</td>\n",
       "    </tr>\n",
       "    <tr>\n",
       "      <th>4</th>\n",
       "      <td>gintama039</td>\n",
       "      <td>[action,  comedy,  historical,  parody,  samur...</td>\n",
       "      <td>TV</td>\n",
       "      <td>51.0</td>\n",
       "      <td>9.16</td>\n",
       "      <td>151266</td>\n",
       "      <td>Gintama  039</td>\n",
       "      <td>medium</td>\n",
       "      <td>veryhigh</td>\n",
       "    </tr>\n",
       "  </tbody>\n",
       "</table>\n",
       "</div>"
      ],
      "text/plain": [
       "                            name  \\\n",
       "0                     kiminonawa   \n",
       "1  fullmetalalchemistbrotherhood   \n",
       "2                        gintama   \n",
       "3                     steinsgate   \n",
       "4                     gintama039   \n",
       "\n",
       "                                               genre   type  episodes  rating  \\\n",
       "0          [drama,  romance,  school,  supernatural]  Movie       1.0    9.37   \n",
       "1  [action,  adventure,  drama,  fantasy,  magic,...     TV      64.0    9.26   \n",
       "2  [action,  comedy,  historical,  parody,  samur...     TV      51.0    9.25   \n",
       "3                                [sci-fi,  thriller]     TV      24.0    9.17   \n",
       "4  [action,  comedy,  historical,  parody,  samur...     TV      51.0    9.16   \n",
       "\n",
       "   members                        anime_name anime_size popularity  \n",
       "0   200630                    Kimi no Na wa        tiny   veryhigh  \n",
       "1   793665  Fullmetal Alchemist: Brotherhood     medium   veryhigh  \n",
       "2   114262                          Gintama      medium   veryhigh  \n",
       "3   673572                       Steins Gate      small   veryhigh  \n",
       "4   151266                     Gintama  039      medium   veryhigh  "
      ]
     },
     "execution_count": 519,
     "metadata": {},
     "output_type": "execute_result"
    }
   ],
   "source": [
    "df.head()"
   ]
  },
  {
   "cell_type": "markdown",
   "id": "6d9fecb4",
   "metadata": {},
   "source": [
    "#### We must consider only the data relevant for formulating cosine similarity matrix and drop all other columns."
   ]
  },
  {
   "cell_type": "code",
   "execution_count": 520,
   "id": "ae4630b9",
   "metadata": {},
   "outputs": [],
   "source": [
    "to_be_dropped = ['episodes','rating','members']"
   ]
  },
  {
   "cell_type": "code",
   "execution_count": 521,
   "id": "381b5fcc",
   "metadata": {},
   "outputs": [],
   "source": [
    "str_data = df.drop(to_be_dropped, axis=1)"
   ]
  },
  {
   "cell_type": "code",
   "execution_count": 522,
   "id": "c6068036",
   "metadata": {
    "scrolled": true
   },
   "outputs": [
    {
     "data": {
      "text/html": [
       "<div>\n",
       "<style scoped>\n",
       "    .dataframe tbody tr th:only-of-type {\n",
       "        vertical-align: middle;\n",
       "    }\n",
       "\n",
       "    .dataframe tbody tr th {\n",
       "        vertical-align: top;\n",
       "    }\n",
       "\n",
       "    .dataframe thead th {\n",
       "        text-align: right;\n",
       "    }\n",
       "</style>\n",
       "<table border=\"1\" class=\"dataframe\">\n",
       "  <thead>\n",
       "    <tr style=\"text-align: right;\">\n",
       "      <th></th>\n",
       "      <th>name</th>\n",
       "      <th>genre</th>\n",
       "      <th>type</th>\n",
       "      <th>anime_name</th>\n",
       "      <th>anime_size</th>\n",
       "      <th>popularity</th>\n",
       "    </tr>\n",
       "  </thead>\n",
       "  <tbody>\n",
       "    <tr>\n",
       "      <th>0</th>\n",
       "      <td>kiminonawa</td>\n",
       "      <td>[drama,  romance,  school,  supernatural]</td>\n",
       "      <td>Movie</td>\n",
       "      <td>Kimi no Na wa</td>\n",
       "      <td>tiny</td>\n",
       "      <td>veryhigh</td>\n",
       "    </tr>\n",
       "    <tr>\n",
       "      <th>1</th>\n",
       "      <td>fullmetalalchemistbrotherhood</td>\n",
       "      <td>[action,  adventure,  drama,  fantasy,  magic,...</td>\n",
       "      <td>TV</td>\n",
       "      <td>Fullmetal Alchemist: Brotherhood</td>\n",
       "      <td>medium</td>\n",
       "      <td>veryhigh</td>\n",
       "    </tr>\n",
       "    <tr>\n",
       "      <th>2</th>\n",
       "      <td>gintama</td>\n",
       "      <td>[action,  comedy,  historical,  parody,  samur...</td>\n",
       "      <td>TV</td>\n",
       "      <td>Gintama</td>\n",
       "      <td>medium</td>\n",
       "      <td>veryhigh</td>\n",
       "    </tr>\n",
       "    <tr>\n",
       "      <th>3</th>\n",
       "      <td>steinsgate</td>\n",
       "      <td>[sci-fi,  thriller]</td>\n",
       "      <td>TV</td>\n",
       "      <td>Steins Gate</td>\n",
       "      <td>small</td>\n",
       "      <td>veryhigh</td>\n",
       "    </tr>\n",
       "    <tr>\n",
       "      <th>4</th>\n",
       "      <td>gintama039</td>\n",
       "      <td>[action,  comedy,  historical,  parody,  samur...</td>\n",
       "      <td>TV</td>\n",
       "      <td>Gintama  039</td>\n",
       "      <td>medium</td>\n",
       "      <td>veryhigh</td>\n",
       "    </tr>\n",
       "  </tbody>\n",
       "</table>\n",
       "</div>"
      ],
      "text/plain": [
       "                            name  \\\n",
       "0                     kiminonawa   \n",
       "1  fullmetalalchemistbrotherhood   \n",
       "2                        gintama   \n",
       "3                     steinsgate   \n",
       "4                     gintama039   \n",
       "\n",
       "                                               genre   type  \\\n",
       "0          [drama,  romance,  school,  supernatural]  Movie   \n",
       "1  [action,  adventure,  drama,  fantasy,  magic,...     TV   \n",
       "2  [action,  comedy,  historical,  parody,  samur...     TV   \n",
       "3                                [sci-fi,  thriller]     TV   \n",
       "4  [action,  comedy,  historical,  parody,  samur...     TV   \n",
       "\n",
       "                         anime_name anime_size popularity  \n",
       "0                    Kimi no Na wa        tiny   veryhigh  \n",
       "1  Fullmetal Alchemist: Brotherhood     medium   veryhigh  \n",
       "2                          Gintama      medium   veryhigh  \n",
       "3                       Steins Gate      small   veryhigh  \n",
       "4                     Gintama  039      medium   veryhigh  "
      ]
     },
     "execution_count": 522,
     "metadata": {},
     "output_type": "execute_result"
    }
   ],
   "source": [
    "str_data.head()"
   ]
  },
  {
   "cell_type": "markdown",
   "id": "752671df",
   "metadata": {},
   "source": [
    "#### Creating new column 'combined' that carries relevant information of the entire row."
   ]
  },
  {
   "cell_type": "code",
   "execution_count": 523,
   "id": "21746bdb",
   "metadata": {},
   "outputs": [],
   "source": [
    "str_data['combined'] = ''\n",
    "columns = str_data.columns\n",
    "for index, row in str_data.iterrows():\n",
    "    words = ''\n",
    "    for col in columns:\n",
    "        if col != 'genre' and col != 'anime_name':\n",
    "            words = words + ' ' + row[col]\n",
    "        elif col != 'anime_name':\n",
    "            for genre in row[col]:\n",
    "                words = words + ' ' + genre\n",
    "    row['combined'] = words\n",
    "\n",
    "#df = df.drop(columns = [col for col in df.columns if col != 'combined'], inplace=True)"
   ]
  },
  {
   "cell_type": "code",
   "execution_count": 524,
   "id": "a126c4b7",
   "metadata": {
    "scrolled": true
   },
   "outputs": [
    {
     "data": {
      "text/html": [
       "<div>\n",
       "<style scoped>\n",
       "    .dataframe tbody tr th:only-of-type {\n",
       "        vertical-align: middle;\n",
       "    }\n",
       "\n",
       "    .dataframe tbody tr th {\n",
       "        vertical-align: top;\n",
       "    }\n",
       "\n",
       "    .dataframe thead th {\n",
       "        text-align: right;\n",
       "    }\n",
       "</style>\n",
       "<table border=\"1\" class=\"dataframe\">\n",
       "  <thead>\n",
       "    <tr style=\"text-align: right;\">\n",
       "      <th></th>\n",
       "      <th>name</th>\n",
       "      <th>genre</th>\n",
       "      <th>type</th>\n",
       "      <th>anime_name</th>\n",
       "      <th>anime_size</th>\n",
       "      <th>popularity</th>\n",
       "      <th>combined</th>\n",
       "    </tr>\n",
       "  </thead>\n",
       "  <tbody>\n",
       "    <tr>\n",
       "      <th>0</th>\n",
       "      <td>kiminonawa</td>\n",
       "      <td>[drama,  romance,  school,  supernatural]</td>\n",
       "      <td>Movie</td>\n",
       "      <td>Kimi no Na wa</td>\n",
       "      <td>tiny</td>\n",
       "      <td>veryhigh</td>\n",
       "      <td>kiminonawa drama  romance  school  supernatur...</td>\n",
       "    </tr>\n",
       "    <tr>\n",
       "      <th>1</th>\n",
       "      <td>fullmetalalchemistbrotherhood</td>\n",
       "      <td>[action,  adventure,  drama,  fantasy,  magic,...</td>\n",
       "      <td>TV</td>\n",
       "      <td>Fullmetal Alchemist: Brotherhood</td>\n",
       "      <td>medium</td>\n",
       "      <td>veryhigh</td>\n",
       "      <td>fullmetalalchemistbrotherhood action  adventu...</td>\n",
       "    </tr>\n",
       "    <tr>\n",
       "      <th>2</th>\n",
       "      <td>gintama</td>\n",
       "      <td>[action,  comedy,  historical,  parody,  samur...</td>\n",
       "      <td>TV</td>\n",
       "      <td>Gintama</td>\n",
       "      <td>medium</td>\n",
       "      <td>veryhigh</td>\n",
       "      <td>gintama action  comedy  historical  parody  s...</td>\n",
       "    </tr>\n",
       "    <tr>\n",
       "      <th>3</th>\n",
       "      <td>steinsgate</td>\n",
       "      <td>[sci-fi,  thriller]</td>\n",
       "      <td>TV</td>\n",
       "      <td>Steins Gate</td>\n",
       "      <td>small</td>\n",
       "      <td>veryhigh</td>\n",
       "      <td>steinsgate sci-fi  thriller TV small veryhigh</td>\n",
       "    </tr>\n",
       "    <tr>\n",
       "      <th>4</th>\n",
       "      <td>gintama039</td>\n",
       "      <td>[action,  comedy,  historical,  parody,  samur...</td>\n",
       "      <td>TV</td>\n",
       "      <td>Gintama  039</td>\n",
       "      <td>medium</td>\n",
       "      <td>veryhigh</td>\n",
       "      <td>gintama039 action  comedy  historical  parody...</td>\n",
       "    </tr>\n",
       "  </tbody>\n",
       "</table>\n",
       "</div>"
      ],
      "text/plain": [
       "                            name  \\\n",
       "0                     kiminonawa   \n",
       "1  fullmetalalchemistbrotherhood   \n",
       "2                        gintama   \n",
       "3                     steinsgate   \n",
       "4                     gintama039   \n",
       "\n",
       "                                               genre   type  \\\n",
       "0          [drama,  romance,  school,  supernatural]  Movie   \n",
       "1  [action,  adventure,  drama,  fantasy,  magic,...     TV   \n",
       "2  [action,  comedy,  historical,  parody,  samur...     TV   \n",
       "3                                [sci-fi,  thriller]     TV   \n",
       "4  [action,  comedy,  historical,  parody,  samur...     TV   \n",
       "\n",
       "                         anime_name anime_size popularity  \\\n",
       "0                    Kimi no Na wa        tiny   veryhigh   \n",
       "1  Fullmetal Alchemist: Brotherhood     medium   veryhigh   \n",
       "2                          Gintama      medium   veryhigh   \n",
       "3                       Steins Gate      small   veryhigh   \n",
       "4                     Gintama  039      medium   veryhigh   \n",
       "\n",
       "                                            combined  \n",
       "0   kiminonawa drama  romance  school  supernatur...  \n",
       "1   fullmetalalchemistbrotherhood action  adventu...  \n",
       "2   gintama action  comedy  historical  parody  s...  \n",
       "3     steinsgate sci-fi  thriller TV small veryhigh   \n",
       "4   gintama039 action  comedy  historical  parody...  "
      ]
     },
     "execution_count": 524,
     "metadata": {},
     "output_type": "execute_result"
    }
   ],
   "source": [
    "str_data.head()"
   ]
  },
  {
   "cell_type": "markdown",
   "id": "2a4c00bf",
   "metadata": {},
   "source": [
    "### Using CountVectorizer to convert contents of 'combined' column into vectors "
   ]
  },
  {
   "cell_type": "code",
   "execution_count": 525,
   "id": "d5551b44",
   "metadata": {},
   "outputs": [],
   "source": [
    "cv = CountVectorizer()"
   ]
  },
  {
   "cell_type": "code",
   "execution_count": 526,
   "id": "b85a03fb",
   "metadata": {},
   "outputs": [],
   "source": [
    "matrix = cv.fit_transform(str_data['combined'])"
   ]
  },
  {
   "cell_type": "code",
   "execution_count": 527,
   "id": "7deb260c",
   "metadata": {},
   "outputs": [
    {
     "data": {
      "text/plain": [
       "<9957x9977 sparse matrix of type '<class 'numpy.int64'>'\n",
       "\twith 76037 stored elements in Compressed Sparse Row format>"
      ]
     },
     "execution_count": 527,
     "metadata": {},
     "output_type": "execute_result"
    }
   ],
   "source": [
    "matrix"
   ]
  },
  {
   "cell_type": "code",
   "execution_count": 528,
   "id": "781e70da",
   "metadata": {},
   "outputs": [],
   "source": [
    "cosine_matrix = cosine_similarity(matrix)"
   ]
  },
  {
   "cell_type": "code",
   "execution_count": 529,
   "id": "dd3debca",
   "metadata": {},
   "outputs": [
    {
     "data": {
      "text/plain": [
       "(9957, 9957)"
      ]
     },
     "execution_count": 529,
     "metadata": {},
     "output_type": "execute_result"
    }
   ],
   "source": [
    "cosine_matrix.shape"
   ]
  },
  {
   "cell_type": "code",
   "execution_count": 530,
   "id": "a8e7de18",
   "metadata": {},
   "outputs": [],
   "source": [
    "# Creating new 'id' column for convenience \n",
    "str_data['id'] = [i for i in range(0,str_data.shape[0])]"
   ]
  },
  {
   "cell_type": "code",
   "execution_count": 531,
   "id": "fe60e051",
   "metadata": {},
   "outputs": [],
   "source": [
    "# this function accepts a anime name as input as returns a list of ten most recommended animes \n",
    "def recommend_ten(title):\n",
    "    anime_id = str_data[str_data.name==title]['id'].values[0]\n",
    "    sorted_scores = sorted(list(enumerate(cosine_matrix[anime_id])), key=lambda x: x[1], reverse=True)\n",
    "    sorted_ten = sorted_scores[1:11]\n",
    "    top_ten = [str_data[anime[0]==str_data['id']]['anime_name'].values[0] for anime in sorted_ten]\n",
    "    return top_ten"
   ]
  },
  {
   "cell_type": "code",
   "execution_count": 532,
   "id": "f15dc411",
   "metadata": {},
   "outputs": [],
   "source": [
    "recommendations = recommend_ten('gintama')"
   ]
  },
  {
   "cell_type": "code",
   "execution_count": 533,
   "id": "6723258b",
   "metadata": {
    "scrolled": true
   },
   "outputs": [
    {
     "data": {
      "text/plain": [
       "['Gintama  039 ',\n",
       " 'Gintama',\n",
       " 'Gintama  039 : Enchousen',\n",
       " 'Viewtiful Joe',\n",
       " 'Genji Tsuushin Agedama',\n",
       " 'Big X',\n",
       " 'Gintama Movie: Kanketsu-hen - Yorozuya yo Eien Nare',\n",
       " 'Gintama: Yorinuki Gintama-san on Theater 2D',\n",
       " 'Gintama Movie: Shinyaku Benizakura-hen',\n",
       " 'Gintama: Shinyaku Benizakura-hen']"
      ]
     },
     "execution_count": 533,
     "metadata": {},
     "output_type": "execute_result"
    }
   ],
   "source": [
    "recommendations"
   ]
  },
  {
   "cell_type": "code",
   "execution_count": 537,
   "id": "6f7d52bf",
   "metadata": {},
   "outputs": [],
   "source": [
    "import pickle\n",
    "# open a file, where you want to store the data\n",
    "file = open('anime_recommendation.pkl', 'wb')\n",
    "\n",
    "# dump information to that file\n",
    "pickle.dump(cosine_matrix, file)"
   ]
  },
  {
   "cell_type": "code",
   "execution_count": 538,
   "id": "b3c96ba9",
   "metadata": {},
   "outputs": [],
   "source": [
    "matrix = open('anime_recommendation.pkl','rb')\n",
    "#cos_matrix = pickle.load(matrix)"
   ]
  },
  {
   "cell_type": "code",
   "execution_count": 539,
   "id": "74fbe972",
   "metadata": {},
   "outputs": [],
   "source": [
    "cos_matrix = pickle.load(matrix)"
   ]
  },
  {
   "cell_type": "code",
   "execution_count": 540,
   "id": "503ebf72",
   "metadata": {},
   "outputs": [
    {
     "name": "stdout",
     "output_type": "stream",
     "text": [
      "[[1.         0.21320072 0.10206207 ... 0.14433757 0.         0.2236068 ]\n",
      " [0.21320072 1.         0.43519414 ... 0.12309149 0.26967994 0.28603878]\n",
      " [0.10206207 0.43519414 1.         ... 0.         0.25819889 0.        ]\n",
      " ...\n",
      " [0.14433757 0.12309149 0.         ... 1.         0.36514837 0.51639778]\n",
      " [0.         0.26967994 0.25819889 ... 0.36514837 1.         0.28284271]\n",
      " [0.2236068  0.28603878 0.         ... 0.51639778 0.28284271 1.        ]]\n"
     ]
    }
   ],
   "source": [
    "print(cos_matrix)"
   ]
  },
  {
   "cell_type": "code",
   "execution_count": 542,
   "id": "75e7ab9b",
   "metadata": {},
   "outputs": [],
   "source": [
    "file = open('anime_dataframe.pkl', 'wb')\n",
    "\n",
    "# dump information to that file\n",
    "pickle.dump(str_data, file)"
   ]
  },
  {
   "cell_type": "code",
   "execution_count": 543,
   "id": "aa18410a",
   "metadata": {},
   "outputs": [],
   "source": [
    "data = open('anime_dataframe.pkl', 'rb')"
   ]
  },
  {
   "cell_type": "code",
   "execution_count": 544,
   "id": "6e586c06",
   "metadata": {},
   "outputs": [],
   "source": [
    "dataframe = pickle.load(data)"
   ]
  },
  {
   "cell_type": "code",
   "execution_count": 545,
   "id": "3b5b30f9",
   "metadata": {},
   "outputs": [
    {
     "data": {
      "text/html": [
       "<div>\n",
       "<style scoped>\n",
       "    .dataframe tbody tr th:only-of-type {\n",
       "        vertical-align: middle;\n",
       "    }\n",
       "\n",
       "    .dataframe tbody tr th {\n",
       "        vertical-align: top;\n",
       "    }\n",
       "\n",
       "    .dataframe thead th {\n",
       "        text-align: right;\n",
       "    }\n",
       "</style>\n",
       "<table border=\"1\" class=\"dataframe\">\n",
       "  <thead>\n",
       "    <tr style=\"text-align: right;\">\n",
       "      <th></th>\n",
       "      <th>name</th>\n",
       "      <th>genre</th>\n",
       "      <th>type</th>\n",
       "      <th>anime_name</th>\n",
       "      <th>anime_size</th>\n",
       "      <th>popularity</th>\n",
       "      <th>combined</th>\n",
       "      <th>id</th>\n",
       "    </tr>\n",
       "  </thead>\n",
       "  <tbody>\n",
       "    <tr>\n",
       "      <th>0</th>\n",
       "      <td>kiminonawa</td>\n",
       "      <td>[drama,  romance,  school,  supernatural]</td>\n",
       "      <td>Movie</td>\n",
       "      <td>Kimi no Na wa</td>\n",
       "      <td>tiny</td>\n",
       "      <td>veryhigh</td>\n",
       "      <td>kiminonawa drama  romance  school  supernatur...</td>\n",
       "      <td>0</td>\n",
       "    </tr>\n",
       "    <tr>\n",
       "      <th>1</th>\n",
       "      <td>fullmetalalchemistbrotherhood</td>\n",
       "      <td>[action,  adventure,  drama,  fantasy,  magic,...</td>\n",
       "      <td>TV</td>\n",
       "      <td>Fullmetal Alchemist: Brotherhood</td>\n",
       "      <td>medium</td>\n",
       "      <td>veryhigh</td>\n",
       "      <td>fullmetalalchemistbrotherhood action  adventu...</td>\n",
       "      <td>1</td>\n",
       "    </tr>\n",
       "    <tr>\n",
       "      <th>2</th>\n",
       "      <td>gintama</td>\n",
       "      <td>[action,  comedy,  historical,  parody,  samur...</td>\n",
       "      <td>TV</td>\n",
       "      <td>Gintama</td>\n",
       "      <td>medium</td>\n",
       "      <td>veryhigh</td>\n",
       "      <td>gintama action  comedy  historical  parody  s...</td>\n",
       "      <td>2</td>\n",
       "    </tr>\n",
       "    <tr>\n",
       "      <th>3</th>\n",
       "      <td>steinsgate</td>\n",
       "      <td>[sci-fi,  thriller]</td>\n",
       "      <td>TV</td>\n",
       "      <td>Steins Gate</td>\n",
       "      <td>small</td>\n",
       "      <td>veryhigh</td>\n",
       "      <td>steinsgate sci-fi  thriller TV small veryhigh</td>\n",
       "      <td>3</td>\n",
       "    </tr>\n",
       "    <tr>\n",
       "      <th>4</th>\n",
       "      <td>gintama039</td>\n",
       "      <td>[action,  comedy,  historical,  parody,  samur...</td>\n",
       "      <td>TV</td>\n",
       "      <td>Gintama  039</td>\n",
       "      <td>medium</td>\n",
       "      <td>veryhigh</td>\n",
       "      <td>gintama039 action  comedy  historical  parody...</td>\n",
       "      <td>4</td>\n",
       "    </tr>\n",
       "    <tr>\n",
       "      <th>...</th>\n",
       "      <td>...</td>\n",
       "      <td>...</td>\n",
       "      <td>...</td>\n",
       "      <td>...</td>\n",
       "      <td>...</td>\n",
       "      <td>...</td>\n",
       "      <td>...</td>\n",
       "      <td>...</td>\n",
       "    </tr>\n",
       "    <tr>\n",
       "      <th>9994</th>\n",
       "      <td>pochacconojacktomamenoki</td>\n",
       "      <td>[fantasy,  kids]</td>\n",
       "      <td>OVA</td>\n",
       "      <td>Pochacco no Jack to Mame no Ki</td>\n",
       "      <td>tiny</td>\n",
       "      <td>low</td>\n",
       "      <td>pochacconojacktomamenoki fantasy  kids OVA ti...</td>\n",
       "      <td>9952</td>\n",
       "    </tr>\n",
       "    <tr>\n",
       "      <th>9995</th>\n",
       "      <td>pochaccononinjinhatawaoosawagi</td>\n",
       "      <td>[fantasy,  kids]</td>\n",
       "      <td>OVA</td>\n",
       "      <td>Pochacco no Ninjin Hata wa Oosawagi</td>\n",
       "      <td>tiny</td>\n",
       "      <td>low</td>\n",
       "      <td>pochaccononinjinhatawaoosawagi fantasy  kids ...</td>\n",
       "      <td>9953</td>\n",
       "    </tr>\n",
       "    <tr>\n",
       "      <th>9996</th>\n",
       "      <td>pochacconowakuwakubirthday</td>\n",
       "      <td>[fantasy,  kids]</td>\n",
       "      <td>OVA</td>\n",
       "      <td>Pochacco no Wakuwaku Birthday</td>\n",
       "      <td>tiny</td>\n",
       "      <td>low</td>\n",
       "      <td>pochacconowakuwakubirthday fantasy  kids OVA ...</td>\n",
       "      <td>9954</td>\n",
       "    </tr>\n",
       "    <tr>\n",
       "      <th>9997</th>\n",
       "      <td>pokapokamorinorascal</td>\n",
       "      <td>[kids]</td>\n",
       "      <td>TV</td>\n",
       "      <td>Poka Poka Mori no Rascal</td>\n",
       "      <td>medium</td>\n",
       "      <td>low</td>\n",
       "      <td>pokapokamorinorascal kids TV medium low</td>\n",
       "      <td>9955</td>\n",
       "    </tr>\n",
       "    <tr>\n",
       "      <th>9998</th>\n",
       "      <td>pokoponnoyukainasaiyuuki</td>\n",
       "      <td>[adventure,  fantasy,  kids,  magic,  martial ...</td>\n",
       "      <td>Movie</td>\n",
       "      <td>Pokopon no Yukai na Saiyuuki</td>\n",
       "      <td>tiny</td>\n",
       "      <td>low</td>\n",
       "      <td>pokoponnoyukainasaiyuuki adventure  fantasy  ...</td>\n",
       "      <td>9956</td>\n",
       "    </tr>\n",
       "  </tbody>\n",
       "</table>\n",
       "<p>9957 rows × 8 columns</p>\n",
       "</div>"
      ],
      "text/plain": [
       "                                name  \\\n",
       "0                         kiminonawa   \n",
       "1      fullmetalalchemistbrotherhood   \n",
       "2                            gintama   \n",
       "3                         steinsgate   \n",
       "4                         gintama039   \n",
       "...                              ...   \n",
       "9994        pochacconojacktomamenoki   \n",
       "9995  pochaccononinjinhatawaoosawagi   \n",
       "9996      pochacconowakuwakubirthday   \n",
       "9997            pokapokamorinorascal   \n",
       "9998        pokoponnoyukainasaiyuuki   \n",
       "\n",
       "                                                  genre   type  \\\n",
       "0             [drama,  romance,  school,  supernatural]  Movie   \n",
       "1     [action,  adventure,  drama,  fantasy,  magic,...     TV   \n",
       "2     [action,  comedy,  historical,  parody,  samur...     TV   \n",
       "3                                   [sci-fi,  thriller]     TV   \n",
       "4     [action,  comedy,  historical,  parody,  samur...     TV   \n",
       "...                                                 ...    ...   \n",
       "9994                                   [fantasy,  kids]    OVA   \n",
       "9995                                   [fantasy,  kids]    OVA   \n",
       "9996                                   [fantasy,  kids]    OVA   \n",
       "9997                                             [kids]     TV   \n",
       "9998  [adventure,  fantasy,  kids,  magic,  martial ...  Movie   \n",
       "\n",
       "                               anime_name anime_size popularity  \\\n",
       "0                          Kimi no Na wa        tiny   veryhigh   \n",
       "1        Fullmetal Alchemist: Brotherhood     medium   veryhigh   \n",
       "2                                Gintama      medium   veryhigh   \n",
       "3                             Steins Gate      small   veryhigh   \n",
       "4                           Gintama  039      medium   veryhigh   \n",
       "...                                   ...        ...        ...   \n",
       "9994       Pochacco no Jack to Mame no Ki       tiny        low   \n",
       "9995  Pochacco no Ninjin Hata wa Oosawagi       tiny        low   \n",
       "9996        Pochacco no Wakuwaku Birthday       tiny        low   \n",
       "9997             Poka Poka Mori no Rascal     medium        low   \n",
       "9998         Pokopon no Yukai na Saiyuuki       tiny        low   \n",
       "\n",
       "                                               combined    id  \n",
       "0      kiminonawa drama  romance  school  supernatur...     0  \n",
       "1      fullmetalalchemistbrotherhood action  adventu...     1  \n",
       "2      gintama action  comedy  historical  parody  s...     2  \n",
       "3        steinsgate sci-fi  thriller TV small veryhigh      3  \n",
       "4      gintama039 action  comedy  historical  parody...     4  \n",
       "...                                                 ...   ...  \n",
       "9994   pochacconojacktomamenoki fantasy  kids OVA ti...  9952  \n",
       "9995   pochaccononinjinhatawaoosawagi fantasy  kids ...  9953  \n",
       "9996   pochacconowakuwakubirthday fantasy  kids OVA ...  9954  \n",
       "9997           pokapokamorinorascal kids TV medium low   9955  \n",
       "9998   pokoponnoyukainasaiyuuki adventure  fantasy  ...  9956  \n",
       "\n",
       "[9957 rows x 8 columns]"
      ]
     },
     "execution_count": 545,
     "metadata": {},
     "output_type": "execute_result"
    }
   ],
   "source": [
    "dataframe"
   ]
  },
  {
   "cell_type": "code",
   "execution_count": null,
   "id": "5b752c07",
   "metadata": {},
   "outputs": [],
   "source": []
  }
 ],
 "metadata": {
  "kernelspec": {
   "display_name": "Python 3",
   "language": "python",
   "name": "python3"
  },
  "language_info": {
   "codemirror_mode": {
    "name": "ipython",
    "version": 3
   },
   "file_extension": ".py",
   "mimetype": "text/x-python",
   "name": "python",
   "nbconvert_exporter": "python",
   "pygments_lexer": "ipython3",
   "version": "3.8.8"
  }
 },
 "nbformat": 4,
 "nbformat_minor": 5
}
